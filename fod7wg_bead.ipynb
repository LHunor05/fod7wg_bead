{
    "metadata": {
        "kernelspec": {
            "name": "SQL",
            "display_name": "SQL",
            "language": "sql"
        },
        "language_info": {
            "name": "sql",
            "version": ""
        }
    },
    "nbformat_minor": 2,
    "nbformat": 4,
    "cells": [
        {
            "cell_type": "code",
            "source": [
                "DECLARE @Atlag_Ar INT;\r\n",
                "SELECT @Atlag_Ar = avg(LISTAAR) FROM Termek\r\n",
                "\r\n",
                "SELECT \r\n",
                "    min(LISTAAR) as Min_Ar,\r\n",
                "    cast(avg(LISTAAR) AS DECIMAL(10, 0)) AS Atlag_Ar,\r\n",
                "    max(LISTAAR) as Max_Ar,\r\n",
                "    sum(CASE WHEN t.LISTAAR < @Atlag_Ar THEN 1 ELSE 0 END) as Atlag_Alatt,\r\n",
                "    sum(CASE WHEN t.LISTAAR > @Atlag_Ar THEN 1 ELSE 0 END) as Atlag_Felett\r\n",
                "FROM Termek t\r\n",
                ""
            ],
            "metadata": {
                "azdata_cell_guid": "25cd73e4-3cb4-409c-aa3e-a0a4ac019687",
                "language": "sql",
                "tags": []
            },
            "outputs": [
                {
                    "output_type": "display_data",
                    "data": {
                        "text/html": "(1 row affected)"
                    },
                    "metadata": {}
                },
                {
                    "output_type": "display_data",
                    "data": {
                        "text/html": "Total execution time: 00:00:00.008"
                    },
                    "metadata": {}
                },
                {
                    "output_type": "execute_result",
                    "metadata": {},
                    "execution_count": 165,
                    "data": {
                        "application/vnd.dataresource+json": {
                            "schema": {
                                "fields": [
                                    {
                                        "name": "Min_Ar"
                                    },
                                    {
                                        "name": "Atlag_Ar"
                                    },
                                    {
                                        "name": "Max_Ar"
                                    },
                                    {
                                        "name": "Atlag_Alatt"
                                    },
                                    {
                                        "name": "Atlag_Felett"
                                    }
                                ]
                            },
                            "data": [
                                {
                                    "Min_Ar": "0",
                                    "Atlag_Ar": "786",
                                    "Max_Ar": "46000",
                                    "Atlag_Alatt": "505",
                                    "Atlag_Felett": "46"
                                }
                            ]
                        },
                        "text/html": [
                            "<table>",
                            "<tr><th>Min_Ar</th><th>Atlag_Ar</th><th>Max_Ar</th><th>Atlag_Alatt</th><th>Atlag_Felett</th></tr>",
                            "<tr><td>0</td><td>786</td><td>46000</td><td>505</td><td>46</td></tr>",
                            "</table>"
                        ]
                    }
                }
            ],
            "execution_count": 165
        },
        {
            "cell_type": "code",
            "source": [
                "SELECT \r\n",
                "    count(distinct t.MEGNEVEZES) as Ossz_Termek,\r\n",
                "    sum(CASE WHEN t.MEGNEVEZES IS NULL THEN 1 ELSE 0 END) AS Hianyzo_Ertek,\r\n",
                "    min(len(t.MEGNEVEZES)) AS Min_Hossz,\r\n",
                "    max(len(t.MEGNEVEZES)) AS Max_Hossz,\r\n",
                "    avg(len(t.MEGNEVEZES)) AS Atlag_Hossz\r\n",
                "FROM Termek t\r\n",
                "\r\n",
                "SELECT TOP 10 t.MEGNEVEZES AS Megnevezes, \r\n",
                "        len(t.MEGNEVEZES) AS Karakter_Szam\r\n",
                "FROM Termek t\r\n",
                "GROUP BY t.MEGNEVEZES\r\n",
                "ORDER BY 2 DESC"
            ],
            "metadata": {
                "azdata_cell_guid": "453ef976-2daa-44b9-88c3-e98c81ebe231",
                "language": "sql",
                "tags": []
            },
            "outputs": [
                {
                    "output_type": "display_data",
                    "data": {
                        "text/html": "(1 row affected)"
                    },
                    "metadata": {}
                },
                {
                    "output_type": "display_data",
                    "data": {
                        "text/html": "(10 rows affected)"
                    },
                    "metadata": {}
                },
                {
                    "output_type": "display_data",
                    "data": {
                        "text/html": "Total execution time: 00:00:00.023"
                    },
                    "metadata": {}
                },
                {
                    "output_type": "execute_result",
                    "metadata": {},
                    "execution_count": 166,
                    "data": {
                        "application/vnd.dataresource+json": {
                            "schema": {
                                "fields": [
                                    {
                                        "name": "Ossz_Termek"
                                    },
                                    {
                                        "name": "Hianyzo_Ertek"
                                    },
                                    {
                                        "name": "Min_Hossz"
                                    },
                                    {
                                        "name": "Max_Hossz"
                                    },
                                    {
                                        "name": "Atlag_Hossz"
                                    }
                                ]
                            },
                            "data": [
                                {
                                    "Ossz_Termek": "543",
                                    "Hianyzo_Ertek": "0",
                                    "Min_Hossz": "3",
                                    "Max_Hossz": "40",
                                    "Atlag_Hossz": "18"
                                }
                            ]
                        },
                        "text/html": [
                            "<table>",
                            "<tr><th>Ossz_Termek</th><th>Hianyzo_Ertek</th><th>Min_Hossz</th><th>Max_Hossz</th><th>Atlag_Hossz</th></tr>",
                            "<tr><td>543</td><td>0</td><td>3</td><td>40</td><td>18</td></tr>",
                            "</table>"
                        ]
                    }
                },
                {
                    "output_type": "execute_result",
                    "metadata": {},
                    "execution_count": 166,
                    "data": {
                        "application/vnd.dataresource+json": {
                            "schema": {
                                "fields": [
                                    {
                                        "name": "Megnevezes"
                                    },
                                    {
                                        "name": "Karakter_Szam"
                                    }
                                ]
                            },
                            "data": [
                                {
                                    "Megnevezes": "A föld amelyen élünk - Távoli földrészek",
                                    "Karakter_Szam": "40"
                                },
                                {
                                    "Megnevezes": "Összefoglaló feladatgyüjtemény számtech.",
                                    "Karakter_Szam": "40"
                                },
                                {
                                    "Megnevezes": "A föld amelyen élünk - Hazánk földrajza",
                                    "Karakter_Szam": "39"
                                },
                                {
                                    "Megnevezes": "A föld amelyen élünk - Európa földrajza",
                                    "Karakter_Szam": "39"
                                },
                                {
                                    "Megnevezes": "G. toll betét UNI lachnok Fine SA-7C",
                                    "Karakter_Szam": "36"
                                },
                                {
                                    "Megnevezes": "Ragasztószalag 19 mm-es SCOTCH+ tépő",
                                    "Karakter_Szam": "36"
                                },
                                {
                                    "Megnevezes": "A föld amelyen élünk - munkafüzet",
                                    "Karakter_Szam": "33"
                                },
                                {
                                    "Megnevezes": "Díszdoboz tollnak 2 db-os keskeny",
                                    "Karakter_Szam": "33"
                                },
                                {
                                    "Megnevezes": "Golyóstoll + ceruza Twister 2in1",
                                    "Karakter_Szam": "32"
                                },
                                {
                                    "Megnevezes": "Ajándék cs. tasak italos, fólia",
                                    "Karakter_Szam": "31"
                                }
                            ]
                        },
                        "text/html": [
                            "<table>",
                            "<tr><th>Megnevezes</th><th>Karakter_Szam</th></tr>",
                            "<tr><td>A föld amelyen élünk - Távoli földrészek</td><td>40</td></tr>",
                            "<tr><td>Összefoglaló feladatgyüjtemény számtech.</td><td>40</td></tr>",
                            "<tr><td>A föld amelyen élünk - Hazánk földrajza</td><td>39</td></tr>",
                            "<tr><td>A föld amelyen élünk - Európa földrajza</td><td>39</td></tr>",
                            "<tr><td>G. toll betét UNI lachnok Fine SA-7C</td><td>36</td></tr>",
                            "<tr><td>Ragasztószalag 19 mm-es SCOTCH+ tépő</td><td>36</td></tr>",
                            "<tr><td>A föld amelyen élünk - munkafüzet</td><td>33</td></tr>",
                            "<tr><td>Díszdoboz tollnak 2 db-os keskeny</td><td>33</td></tr>",
                            "<tr><td>Golyóstoll + ceruza Twister 2in1</td><td>32</td></tr>",
                            "<tr><td>Ajándék cs. tasak italos, fólia</td><td>31</td></tr>",
                            "</table>"
                        ]
                    }
                }
            ],
            "execution_count": 166
        },
        {
            "cell_type": "code",
            "source": [
                "SELECT \r\n",
                "    count(*) as Sorok_Szama,\r\n",
                "    sum(CASE WHEN t.LEIRAS IS NULL THEN 1 ELSE 0 END) as Hianyzo_Leiras,\r\n",
                "    concat(cast(round(100.0 * sum(CASE WHEN t.LEIRAS IS NULL THEN 1 ELSE 0 END) / count(*), 2) as decimal(10, 2)),'%') as Hianyzo_Leiras_Arany\r\n",
                "FROM Termek t"
            ],
            "metadata": {
                "azdata_cell_guid": "4ddf2d07-a273-4939-80c2-290118052a97",
                "language": "sql",
                "tags": []
            },
            "outputs": [
                {
                    "output_type": "display_data",
                    "data": {
                        "text/html": "(1 row affected)"
                    },
                    "metadata": {}
                },
                {
                    "output_type": "display_data",
                    "data": {
                        "text/html": "Total execution time: 00:00:00.011"
                    },
                    "metadata": {}
                },
                {
                    "output_type": "execute_result",
                    "metadata": {},
                    "execution_count": 167,
                    "data": {
                        "application/vnd.dataresource+json": {
                            "schema": {
                                "fields": [
                                    {
                                        "name": "Sorok_Szama"
                                    },
                                    {
                                        "name": "Hianyzo_Leiras"
                                    },
                                    {
                                        "name": "Hianyzo_Leiras_Arany"
                                    }
                                ]
                            },
                            "data": [
                                {
                                    "Sorok_Szama": "551",
                                    "Hianyzo_Leiras": "527",
                                    "Hianyzo_Leiras_Arany": "95.64%"
                                }
                            ]
                        },
                        "text/html": [
                            "<table>",
                            "<tr><th>Sorok_Szama</th><th>Hianyzo_Leiras</th><th>Hianyzo_Leiras_Arany</th></tr>",
                            "<tr><td>551</td><td>527</td><td>95.64%</td></tr>",
                            "</table>"
                        ]
                    }
                }
            ],
            "execution_count": 167
        },
        {
            "cell_type": "code",
            "source": [
                "SELECT \r\n",
                "    count(DISTINCT t.FELVITEL) as Egyedi_Datumok_Szama,\r\n",
                "    datename(dw, t.FELVITEL) as Het_Napja, \r\n",
                "    count(*) AS Felvitt_Termekek\r\n",
                "FROM Termek t\r\n",
                "GROUP BY datename(dw, FELVITEL)\r\n",
                "ORDER BY Felvitt_Termekek DESC"
            ],
            "metadata": {
                "azdata_cell_guid": "19efcc57-33f2-4f57-bdf3-a93078a7ef85",
                "language": "sql",
                "tags": []
            },
            "outputs": [
                {
                    "output_type": "display_data",
                    "data": {
                        "text/html": "(7 rows affected)"
                    },
                    "metadata": {}
                },
                {
                    "output_type": "display_data",
                    "data": {
                        "text/html": "Total execution time: 00:00:00.011"
                    },
                    "metadata": {}
                },
                {
                    "output_type": "execute_result",
                    "metadata": {},
                    "execution_count": 168,
                    "data": {
                        "application/vnd.dataresource+json": {
                            "schema": {
                                "fields": [
                                    {
                                        "name": "Egyedi_Datumok_Szama"
                                    },
                                    {
                                        "name": "Het_Napja"
                                    },
                                    {
                                        "name": "Felvitt_Termekek"
                                    }
                                ]
                            },
                            "data": [
                                {
                                    "Egyedi_Datumok_Szama": "10",
                                    "Het_Napja": "Saturday",
                                    "Felvitt_Termekek": "107"
                                },
                                {
                                    "Egyedi_Datumok_Szama": "9",
                                    "Het_Napja": "Friday",
                                    "Felvitt_Termekek": "86"
                                },
                                {
                                    "Egyedi_Datumok_Szama": "9",
                                    "Het_Napja": "Monday",
                                    "Felvitt_Termekek": "81"
                                },
                                {
                                    "Egyedi_Datumok_Szama": "8",
                                    "Het_Napja": "Thursday",
                                    "Felvitt_Termekek": "79"
                                },
                                {
                                    "Egyedi_Datumok_Szama": "8",
                                    "Het_Napja": "Wednesday",
                                    "Felvitt_Termekek": "74"
                                },
                                {
                                    "Egyedi_Datumok_Szama": "8",
                                    "Het_Napja": "Tuesday",
                                    "Felvitt_Termekek": "71"
                                },
                                {
                                    "Egyedi_Datumok_Szama": "9",
                                    "Het_Napja": "Sunday",
                                    "Felvitt_Termekek": "53"
                                }
                            ]
                        },
                        "text/html": [
                            "<table>",
                            "<tr><th>Egyedi_Datumok_Szama</th><th>Het_Napja</th><th>Felvitt_Termekek</th></tr>",
                            "<tr><td>10</td><td>Saturday</td><td>107</td></tr>",
                            "<tr><td>9</td><td>Friday</td><td>86</td></tr>",
                            "<tr><td>9</td><td>Monday</td><td>81</td></tr>",
                            "<tr><td>8</td><td>Thursday</td><td>79</td></tr>",
                            "<tr><td>8</td><td>Wednesday</td><td>74</td></tr>",
                            "<tr><td>8</td><td>Tuesday</td><td>71</td></tr>",
                            "<tr><td>9</td><td>Sunday</td><td>53</td></tr>",
                            "</table>"
                        ]
                    }
                }
            ],
            "execution_count": 168
        },
        {
            "cell_type": "markdown",
            "source": [
                ""
            ],
            "metadata": {
                "azdata_cell_guid": "60423adf-7c74-412c-98e4-abcb5b463faf"
            }
        }
    ]
}